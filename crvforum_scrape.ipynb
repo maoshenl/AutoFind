{
 "cells": [
  {
   "cell_type": "code",
   "execution_count": 3,
   "metadata": {},
   "outputs": [],
   "source": [
    "import numpy as np\n",
    "from bs4 import BeautifulSoup\n",
    "import pandas as pd\n",
    "from requests import get\n",
    "import time"
   ]
  },
  {
   "cell_type": "code",
   "execution_count": 2,
   "metadata": {},
   "outputs": [
    {
     "name": "stdout",
     "output_type": "stream",
     "text": [
      "<class 'bs4.element.ResultSet'> 35\n"
     ]
    }
   ],
   "source": [
    "link ='https://www.crvownersclub.com/forums/problems-issues.14/page-2'\n",
    "response=get(link)\n",
    "html_soup = BeautifulSoup(response.text, 'html.parser')\n",
    "posts = html_soup.find_all('div', class_=\"california-thread-item\")\n",
    "print(type(posts), len(posts))"
   ]
  },
  {
   "cell_type": "code",
   "execution_count": 194,
   "metadata": {},
   "outputs": [],
   "source": [
    "post1 = posts[0]"
   ]
  },
  {
   "cell_type": "code",
   "execution_count": 30,
   "metadata": {},
   "outputs": [],
   "source": [
    "title = post1.a.text\n",
    "reply_count = post1.find('div', class_= 'reply-count').text.strip()\n",
    "view_count = post1.find('div', class_='structItem-cell forum-view-stats view-count-cell').text.strip()\n",
    "#post_time = "
   ]
  },
  {
   "cell_type": "code",
   "execution_count": 43,
   "metadata": {},
   "outputs": [],
   "source": [
    "user = post1.find('a', class_=\"username\")\n",
    "user_id = user['data-user-id']\n",
    "user_name = user.text"
   ]
  },
  {
   "cell_type": "code",
   "execution_count": 187,
   "metadata": {},
   "outputs": [],
   "source": [
    "user_join_date = post1.find('li', class_=\"structItem-startDate\").find('a').find('time')['datetime']"
   ]
  },
  {
   "cell_type": "code",
   "execution_count": 192,
   "metadata": {},
   "outputs": [],
   "source": [
    "title_head = post1.find('div', class_= \"structItem-title\") \n",
    "title=title_head.text.strip()\n",
    "post_url = 'https://www.crvownersclub.com' + title_head.find('a')['href']"
   ]
  },
  {
   "cell_type": "code",
   "execution_count": 195,
   "metadata": {},
   "outputs": [],
   "source": [
    "def page_posts(page_url):\n",
    "    response = get(page_url)\n",
    "    #throw warning for status codes that are not 200\n",
    "    if response.status_code != 200:\n",
    "        warn('Request: {}; Status code: {}'.format(requests, response.status_code))\n",
    "    html_soup = BeautifulSoup(response.text, 'html.parser')\n",
    "    posts = html_soup.find_all('div', class_=\"california-thread-item\")\n",
    "    return posts"
   ]
  },
  {
   "cell_type": "code",
   "execution_count": 161,
   "metadata": {},
   "outputs": [
    {
     "name": "stdout",
     "output_type": "stream",
     "text": [
      "https://www.crvownersclub.com/threads/1999-rear-wheel-came-off-while-driving.201554/page-2\n",
      "https://www.crvownersclub.com/threads/1999-rear-wheel-came-off-while-driving.201554/page-3\n",
      "https://www.crvownersclub.com/threads/1999-rear-wheel-came-off-while-driving.201554/page-4\n",
      "<class 'bs4.element.ResultSet'> 21 76 4\n"
     ]
    }
   ],
   "source": [
    "response = get(link)\n",
    "html_soup = BeautifulSoup(response.text, 'html.parser')\n",
    "posts = html_soup.find_all('div', class_=\"bbWrapper\")\n",
    "reply_count = html_soup.find('span', class_='count').text\n",
    "pages = int(reply_count)//20 +1\n",
    "for i in range(pages-1):\n",
    "    link1 = link + 'page-%d' %(i+2)\n",
    "    print(link1)\n",
    "print(type(posts), len(posts), stat, pages)\n",
    "\n",
    "def thread_posts(thread_url):\n",
    "    response = get(thread_url)\n",
    "    #throw warning for status codes that are not 200\n",
    "    if response.status_code != 200:\n",
    "        warn('Request: {}; Status code: {}'.format(requests, response.status_code))\n",
    "    html_soup = BeautifulSoup(response.text, 'html.parser')\n",
    "    posts = html_soup.find_all('div', class_=\"bbWrapper\")\n",
    "    reply_count = html_soup.find('span', class_='count').text\n",
    "    if 'K' in reply_count:\n",
    "        reply_count = reply_count[:-1]+'000'\n",
    "    pages = int(reply_count)//20 +1\n",
    "    if pages>1:\n",
    "        for i in range(pages-1):\n",
    "            link2 = thread_url + 'page-%d' %(i+2)\n",
    "            response = get(link2)\n",
    "            html_soup = BeautifulSoup(response.text, 'html.parser')\n",
    "            posts += html_soup.find_all('div', class_=\"bbWrapper\")\n",
    "    return posts\n",
    "\n",
    "def filer_thread_post(posts):\n",
    "    docs = []\n",
    "    for i in range(len(posts)):\n",
    "        text = posts[i].text\n",
    "        tok = 'Click to expand...'\n",
    "        if tok in text:\n",
    "            index =  text.find(tok)\n",
    "            text = text[index+len(tok)+1:]\n",
    "        text = text.replace('\\n',' ').replace('...',' ').replace('..',' ')\n",
    "        if len(text)*' ' != text:\n",
    "            docs.append(text.replace('\\n',' ').replace('...',' ').replace('..',' '))\n",
    "    return docs\n",
    "\n",
    "def get_thread_docs(thread_url):\n",
    "    posts = thread_posts(thread_url)\n",
    "    docs = filer_thread_post(posts)\n",
    "    return docs"
   ]
  },
  {
   "cell_type": "code",
   "execution_count": 217,
   "metadata": {},
   "outputs": [],
   "source": [
    "def main_post_info(post):\n",
    "    reply_count = post.find('div', class_= 'reply-count').text.strip()\n",
    "    view_count = post.find('div', class_='structItem-cell forum-view-stats view-count-cell').text.strip()\n",
    "    user = post.find('a', class_=\"username\")\n",
    "    user_id = user['data-user-id']\n",
    "    user_name = user.text\n",
    "    user_join_date = post.find('li', class_=\"structItem-startDate\").find('a').find('time')['datetime']\n",
    "\n",
    "    title_head = post.find('div', class_= \"structItem-title\") \n",
    "    post_title = title_head.text.strip()\n",
    "    post_url = 'https://www.crvownersclub.com' + title_head.find('a')['href']\n",
    "    return user_id, user_name, user_join_date, post_title, reply_count, view_count, post_url "
   ]
  },
  {
   "cell_type": "code",
   "execution_count": 218,
   "metadata": {},
   "outputs": [
    {
     "data": {
      "text/plain": [
       "('94961',\n",
       " 'noliver87',\n",
       " '2014-05-20T09:26:34-0400',\n",
       " '2002 Honda CR-V RPM Gauge Malfunctioning.. Any Solutions or Ideas?',\n",
       " '5',\n",
       " '5K',\n",
       " 'https://www.crvownersclub.com/threads/2002-honda-cr-v-rpm-gauge-malfunctioning-any-solutions-or-ideas.49561/')"
      ]
     },
     "execution_count": 218,
     "metadata": {},
     "output_type": "execute_result"
    }
   ],
   "source": [
    "main_post_info(post1)"
   ]
  },
  {
   "cell_type": "code",
   "execution_count": 198,
   "metadata": {},
   "outputs": [
    {
     "name": "stdout",
     "output_type": "stream",
     "text": [
      "title1\n"
     ]
    }
   ],
   "source": [
    "print('title%d' %1)"
   ]
  },
  {
   "cell_type": "code",
   "execution_count": 255,
   "metadata": {},
   "outputs": [
    {
     "name": "stdout",
     "output_type": "stream",
     "text": [
      "258.9506561756134\n"
     ]
    }
   ],
   "source": [
    "t0 = time.time()\n",
    "post_title = []\n",
    "post_url = []\n",
    "reply_count = []\n",
    "view_count = []\n",
    "join_date = []\n",
    "user_name = []\n",
    "user_id = []\n",
    "for i in range(360):\n",
    "    page_i_url ='https://www.crvownersclub.com/forums/problems-issues.14/page-%d' %i\n",
    "    page_i_posts = page_posts(page_i_url)\n",
    "    for post in page_i_posts:\n",
    "        post_info = main_post_info(post)\n",
    "        uid, uname, ujoin_date, title, reply, view, url = post_info\n",
    "        if title[:7]=='Sticky\\n':\n",
    "            title = title[8:]\n",
    "        post_title.append(title)\n",
    "        post_url.append(url)\n",
    "        reply_count.append(reply)\n",
    "        view_count.append(view)\n",
    "        join_date.append(ujoin_date)\n",
    "        user_name.append(uname)\n",
    "        user_id.append(uid)\n",
    "            \n",
    "print(time.time()-t0)"
   ]
  },
  {
   "cell_type": "code",
   "execution_count": 4,
   "metadata": {},
   "outputs": [],
   "source": [
    "import pickle"
   ]
  },
  {
   "cell_type": "code",
   "execution_count": 256,
   "metadata": {},
   "outputs": [],
   "source": [
    "df_posts_p360 = pd.DataFrame({'user name': user_name,\n",
    "                         'user id': user_id,\n",
    "                         'user join date': join_date,\n",
    "                         'post title': post_title,\n",
    "                         'post url': post_url,\n",
    "                         'reply count': reply_count,\n",
    "                         'view count': view_count})"
   ]
  },
  {
   "cell_type": "code",
   "execution_count": 5,
   "metadata": {},
   "outputs": [],
   "source": [
    "#pickle.dump( df_posts_p360, open(  \"df_posts_p360.p\", \"wb\" ) )\n",
    "df_posts_p360 = pickle.load( open( \"df_posts_p360.p\", \"rb\" ) )\n",
    "df_posts_p10 = pickle.load( open( \"df_posts_p10.p\", \"rb\" ) )"
   ]
  },
  {
   "cell_type": "code",
   "execution_count": 6,
   "metadata": {},
   "outputs": [
    {
     "data": {
      "text/plain": [
       "0    https://www.crvownersclub.com/threads/2015-hon...\n",
       "1    https://www.crvownersclub.com/threads/heater-c...\n",
       "2    https://www.crvownersclub.com/threads/2014-tpm...\n",
       "3    https://www.crvownersclub.com/threads/low-tire...\n",
       "4    https://www.crvownersclub.com/threads/your-att...\n",
       "Name: post url, dtype: object"
      ]
     },
     "execution_count": 6,
     "metadata": {},
     "output_type": "execute_result"
    }
   ],
   "source": [
    "df_posts_p10['post url'].iloc[:5]"
   ]
  },
  {
   "cell_type": "code",
   "execution_count": 8,
   "metadata": {},
   "outputs": [],
   "source": [
    "df_posts = df_posts_p10\n",
    "size = df_posts.size"
   ]
  },
  {
   "cell_type": "code",
   "execution_count": 167,
   "metadata": {},
   "outputs": [],
   "source": [
    "all_docs = []\n",
    "for i in range(size):\n",
    "    #post_url = df_posts['post url'].iloc[i]\n",
    "    #docs = get_thread_docs(post_url)\n",
    "    all_docs.append(i)\n",
    "    #print(i, '/', size, len(docs)) "
   ]
  },
  {
   "cell_type": "code",
   "execution_count": 147,
   "metadata": {},
   "outputs": [
    {
     "name": "stdout",
     "output_type": "stream",
     "text": [
      "https://www.crvownersclub.com/threads/1999-rear-wheel-came-off-while-driving.201554/page-2\n",
      "https://www.crvownersclub.com/threads/1999-rear-wheel-came-off-while-driving.201554/page-3\n",
      "https://www.crvownersclub.com/threads/1999-rear-wheel-came-off-while-driving.201554/page-4\n",
      "<class 'bs4.element.ResultSet'> 21 76 4\n"
     ]
    }
   ],
   "source": [
    "link = 'https://www.crvownersclub.com/threads/all-warning-lights-on-dashboard-lit-up-on-2017-crv.202109'\n",
    "link = 'https://www.crvownersclub.com/threads/parasitic-draw-2010-crv.40777/page-3'\n",
    "link = 'https://www.crvownersclub.com/threads/1999-rear-wheel-came-off-while-driving.201554/'\n",
    "response = get(link)\n",
    "html_soup = BeautifulSoup(response.text, 'html.parser')\n",
    "posts = html_soup.find_all('div', class_=\"bbWrapper\")\n",
    "reply_count = html_soup.find('span', class_='count').text\n",
    "pages = int(reply_count)//20 +1\n",
    "for i in range(pages-1):\n",
    "    link1 = link + 'page-%d' %(i+2)\n",
    "    print(link1)\n",
    "print(type(posts), len(posts), stat, pages)"
   ]
  },
  {
   "cell_type": "code",
   "execution_count": 157,
   "metadata": {},
   "outputs": [
    {
     "data": {
      "text/plain": [
       "62"
      ]
     },
     "execution_count": 157,
     "metadata": {},
     "output_type": "execute_result"
    }
   ],
   "source": [
    "thread_url = 'https://www.crvownersclub.com/threads/1999-rear-wheel-came-off-while-driving.201554/'\n",
    "posts = thread_posts(thread_url)\n",
    "docs = filer_thread_post(posts)"
   ]
  },
  {
   "cell_type": "code",
   "execution_count": 164,
   "metadata": {},
   "outputs": [],
   "source": [
    "docs = []\n",
    "for i in range(len(posts)):\n",
    "    text = posts[i].text\n",
    "    tok = 'Click to expand...'\n",
    "    if tok in text:\n",
    "        index =  text.find(tok)\n",
    "        text = text[index+len(tok)+1:]\n",
    "    docs.append(text.replace('\\n',' ').replace('...',' ').replace('..',' '))\n",
    "docs;"
   ]
  },
  {
   "cell_type": "code",
   "execution_count": null,
   "metadata": {},
   "outputs": [],
   "source": []
  },
  {
   "cell_type": "code",
   "execution_count": null,
   "metadata": {},
   "outputs": [],
   "source": []
  }
 ],
 "metadata": {
  "kernelspec": {
   "display_name": "Python 3",
   "language": "python",
   "name": "python3"
  },
  "language_info": {
   "codemirror_mode": {
    "name": "ipython",
    "version": 3
   },
   "file_extension": ".py",
   "mimetype": "text/x-python",
   "name": "python",
   "nbconvert_exporter": "python",
   "pygments_lexer": "ipython3",
   "version": "3.7.4"
  }
 },
 "nbformat": 4,
 "nbformat_minor": 2
}
